{
 "cells": [
  {
   "cell_type": "markdown",
   "metadata": {},
   "source": [
    "<!--NAVIGATION-->\n",
    "<a href=\"https://colab.research.google.com/github/marcoteran/artificialintelligence/blob/master/notebooks/00_introtopython/02_artificialintelligence_pythoncrashcoursehomework.ipynb\" target=\"_blank\"><img align=\"left\" src=\"https://colab.research.google.com/assets/colab-badge.svg\" alt=\"Abrir en Colab\" title=\"Abrir y ejecutar en Google Colaboratory\"></a>"
   ]
  },
  {
   "cell_type": "markdown",
   "metadata": {},
   "source": [
    "### Taller\n",
    "# Taller: Ejercicios curso rápido de Python\n",
    "## Inteligencia Artificial"
   ]
  },
  {
   "cell_type": "markdown",
   "metadata": {},
   "source": [
    "**Name:** Marco Teran **E-mail:** marco.tulio.teran@gmail.com,\n",
    "[Website](http://marcoteran.github.io/),\n",
    "[Github](https://github.com/marcoteran),\n",
    "[LinkedIn](https://www.linkedin.com/in/marcoteran/).\n",
    "___"
   ]
  },
  {
   "cell_type": "markdown",
   "metadata": {},
   "source": [
    "En este notebook se plantan algunos ejercicios de programación en Python para repasar los conceptos estudiados. Si usted piensa que necesita más bases de programación o más bases de Python por favor considere hacer trabajo extra para ponerse al día. Por ejemplo con el siguiente curso en línea: [CodeCademy: Learn Python (10 hours)](https://www.codecademy.com/courses/learn-python/lessons/python-syntax/exercises/welcome?action=lesson_resume)."
   ]
  },
  {
   "cell_type": "markdown",
   "metadata": {},
   "source": [
    "Escriba su nombre completo:\n",
    "## Nombre:\n",
    "___"
   ]
  },
  {
   "cell_type": "markdown",
   "metadata": {},
   "source": [
    "## Ejercicios\n",
    "\n",
    "Conteste las preguntas o complete las tareas que se presentan en negrilla a continuación. Use los métodos de Python cuando sea necesario."
   ]
  },
  {
   "cell_type": "markdown",
   "metadata": {},
   "source": [
    "** ¿Cuánto es 7 elevado a la potencia de 4?**"
   ]
  },
  {
   "cell_type": "code",
   "execution_count": null,
   "metadata": {
    "collapsed": true
   },
   "outputs": [],
   "source": []
  },
  {
   "cell_type": "code",
   "execution_count": 1,
   "metadata": {},
   "outputs": [
    {
     "data": {
      "text/plain": [
       "2401"
      ]
     },
     "execution_count": 1,
     "metadata": {},
     "output_type": "execute_result"
    }
   ],
   "source": [
    "# NO USAR ESTA CELDA"
   ]
  },
  {
   "cell_type": "markdown",
   "metadata": {},
   "source": [
    "** Separe la siguiente cadena (usando como delimitador los espacios):**\n",
    "\n",
    "    s = \"Hola, este es un ejercio de Python!\"\n",
    "    \n",
    "**en una lista. **"
   ]
  },
  {
   "cell_type": "code",
   "execution_count": null,
   "metadata": {
    "collapsed": true
   },
   "outputs": [],
   "source": []
  },
  {
   "cell_type": "code",
   "execution_count": null,
   "metadata": {
    "collapsed": true
   },
   "outputs": [],
   "source": []
  },
  {
   "cell_type": "code",
   "execution_count": 4,
   "metadata": {},
   "outputs": [
    {
     "data": {
      "text/plain": [
       "['Hola,', 'este', 'es', 'un', 'ejercio', 'de', 'Python!']"
      ]
     },
     "execution_count": 4,
     "metadata": {},
     "output_type": "execute_result"
    }
   ],
   "source": [
    "# NO USAR ESTA CELDA"
   ]
  },
  {
   "cell_type": "markdown",
   "metadata": {},
   "source": [
    "###### ** Dadas las siguientes variables:**\n",
    "\n",
    "    planeta = \"Tierra\"\n",
    "    diametro = 12756\n",
    "\n",
    "** Use el método .format() para imprimir en pantalla la siguiente cadena: **\n",
    "\n",
    "    El diámetro del planeta Tierra es 12756 kilometros."
   ]
  },
  {
   "cell_type": "code",
   "execution_count": 1,
   "metadata": {
    "collapsed": true
   },
   "outputs": [],
   "source": [
    "planeta = \"Tierra\"\n",
    "diametro = 12756"
   ]
  },
  {
   "cell_type": "code",
   "execution_count": null,
   "metadata": {
    "collapsed": true
   },
   "outputs": [],
   "source": []
  },
  {
   "cell_type": "code",
   "execution_count": 9,
   "metadata": {},
   "outputs": [
    {
     "name": "stdout",
     "output_type": "stream",
     "text": [
      "El diámetro del planeta Tierra es 12756 kilometros.\n"
     ]
    }
   ],
   "source": [
    "# NO USAR ESTA CELDA"
   ]
  },
  {
   "cell_type": "markdown",
   "metadata": {},
   "source": [
    "** Dada la siguiente lista anidada, acceda a la palabra \"hola\" usando solamente los índices de la lista: **"
   ]
  },
  {
   "cell_type": "code",
   "execution_count": 2,
   "metadata": {
    "collapsed": true
   },
   "outputs": [],
   "source": [
    "lst = [1,2,[3,4],[5,[100,200,['hola']],23,11],1,7]"
   ]
  },
  {
   "cell_type": "code",
   "execution_count": null,
   "metadata": {
    "collapsed": true
   },
   "outputs": [],
   "source": []
  },
  {
   "cell_type": "code",
   "execution_count": 11,
   "metadata": {},
   "outputs": [
    {
     "data": {
      "text/plain": [
       "'hola'"
      ]
     },
     "execution_count": 11,
     "metadata": {},
     "output_type": "execute_result"
    }
   ],
   "source": [
    "# NO USAR ESTA CELDA"
   ]
  },
  {
   "cell_type": "markdown",
   "metadata": {},
   "source": [
    "** Dado el siguiente diccionario anidado, acceda a la palabra \"hola\". Este ejercicio puede ser un poco difícil. \n",
    "NOTA: Aunque este tipo de cosas no son necesarias normalmente, sirven para terminar de despejar dudas acerca del acceso a diccionarios y listas anidadas: **"
   ]
  },
  {
   "cell_type": "code",
   "execution_count": 3,
   "metadata": {
    "collapsed": true
   },
   "outputs": [],
   "source": [
    "d = {'k1':[1,2,3,{'difícil':['que','significa','esto',{'casi':[0,1,2,3,'hola']}]}]}"
   ]
  },
  {
   "cell_type": "code",
   "execution_count": null,
   "metadata": {
    "collapsed": true
   },
   "outputs": [],
   "source": []
  },
  {
   "cell_type": "code",
   "execution_count": 15,
   "metadata": {},
   "outputs": [
    {
     "data": {
      "text/plain": [
       "'hola'"
      ]
     },
     "execution_count": 15,
     "metadata": {},
     "output_type": "execute_result"
    }
   ],
   "source": [
    "# NO USAR ESTA CELDA"
   ]
  },
  {
   "cell_type": "markdown",
   "metadata": {},
   "source": [
    "** ¿Cuál es la principal diferencia entre una tupla y una lista? Escriba su respuesta como un comentario de Python**"
   ]
  },
  {
   "cell_type": "code",
   "execution_count": null,
   "metadata": {
    "collapsed": true
   },
   "outputs": [],
   "source": []
  },
  {
   "cell_type": "markdown",
   "metadata": {},
   "source": [
    "** Crear una función que extraiga el dominio de una página web a partir de una cadena que contenga un email de la siguiente forma: **\n",
    "\n",
    "    usuario@dominio.com\n",
    "    \n",
    "**Por ejemplo: si se le pasa \"frestrepo@gmail.com\", la función retornará: gmail.com**"
   ]
  },
  {
   "cell_type": "code",
   "execution_count": null,
   "metadata": {
    "collapsed": true
   },
   "outputs": [],
   "source": []
  },
  {
   "cell_type": "code",
   "execution_count": null,
   "metadata": {
    "collapsed": true
   },
   "outputs": [],
   "source": []
  },
  {
   "cell_type": "code",
   "execution_count": 23,
   "metadata": {},
   "outputs": [
    {
     "data": {
      "text/plain": [
       "'gmail.com'"
      ]
     },
     "execution_count": 23,
     "metadata": {},
     "output_type": "execute_result"
    }
   ],
   "source": [
    "getDomain('frestrepo@gmail.com')"
   ]
  },
  {
   "cell_type": "markdown",
   "metadata": {},
   "source": [
    "** Crear una función que retorne True si la palabra 'perro' está contenida en la cadena de entrada; False, en caso contrario. Por ahora no se preocupe por casos especiales como cuando la palabra tiene algún signo de puntuación inmediatamente despúes de ésta, pero si tenga en cuenta que la palabra puede estar en mayúsculas, minúsculas o una mezcla de ellas. **"
   ]
  },
  {
   "cell_type": "code",
   "execution_count": null,
   "metadata": {
    "collapsed": true
   },
   "outputs": [],
   "source": []
  },
  {
   "cell_type": "code",
   "execution_count": null,
   "metadata": {
    "collapsed": true
   },
   "outputs": [],
   "source": []
  },
  {
   "cell_type": "code",
   "execution_count": 27,
   "metadata": {},
   "outputs": [
    {
     "data": {
      "text/plain": [
       "True"
      ]
     },
     "execution_count": 27,
     "metadata": {},
     "output_type": "execute_result"
    }
   ],
   "source": [
    "findDog('¿Hay algún peRRo aquí?')"
   ]
  },
  {
   "cell_type": "markdown",
   "metadata": {},
   "source": [
    "** Crear una función que cuente el número de veces que aparece la palabra \"perro\" en una cadena. Puede ignorar casos especiales como antes. **"
   ]
  },
  {
   "cell_type": "code",
   "execution_count": null,
   "metadata": {
    "collapsed": true
   },
   "outputs": [],
   "source": []
  },
  {
   "cell_type": "code",
   "execution_count": null,
   "metadata": {
    "collapsed": true
   },
   "outputs": [],
   "source": []
  },
  {
   "cell_type": "code",
   "execution_count": 48,
   "metadata": {},
   "outputs": [
    {
     "data": {
      "text/plain": [
       "3"
      ]
     },
     "execution_count": 48,
     "metadata": {},
     "output_type": "execute_result"
    }
   ],
   "source": [
    "countDog('Este peRRO corre más rápido que el perro blanco y el perro negro!')"
   ]
  },
  {
   "cell_type": "markdown",
   "metadata": {},
   "source": [
    "** Usar una expresión lambda y la función filter() para filtrar las palabras de una lista que NO comiencen con la letra 's'. Por ejemplo:**\n",
    "\n",
    "    seq = ['sopa','perro','sal','gato','grande']\n",
    "\n",
    "**se debe filtrar como:**\n",
    "\n",
    "    ['sopa','sal']"
   ]
  },
  {
   "cell_type": "code",
   "execution_count": 4,
   "metadata": {
    "collapsed": true
   },
   "outputs": [],
   "source": [
    "seq = ['sopa','perro','sal','gato','grande']"
   ]
  },
  {
   "cell_type": "code",
   "execution_count": null,
   "metadata": {
    "collapsed": true
   },
   "outputs": [],
   "source": []
  },
  {
   "cell_type": "code",
   "execution_count": 50,
   "metadata": {},
   "outputs": [
    {
     "data": {
      "text/plain": [
       "['sopa', 'sal']"
      ]
     },
     "execution_count": 50,
     "metadata": {},
     "output_type": "execute_result"
    }
   ],
   "source": [
    "# NO USAR ESTA CELDA"
   ]
  },
  {
   "cell_type": "markdown",
   "metadata": {},
   "source": [
    "### Problema final\n",
    "**Usted va conduciendo su carro muy rápido y es detenido por un agente de tránsito. Escriba una función que retorne uno de los 3 siguientes resultados: \"Sin multa\", \"Multa pequeña\", or \"Multa grande\". \n",
    "  Si la velocidad es 60 Km/h o menos, el resultado es \"Sin multa\". Si la velocidad está entre 60 y 80 Km/h (inclusive), el resultado es \"Multa pequeña\". Si la velocidad es mayor a 80 Km/h, el resultado es \"Multa grande\". Además, considere que si esto ocurre el día de su cumpleaños (codificado como parámetro booleano que recibe la función), su velocidad podría ser 5 Km/ mayor en todos los casos. **"
   ]
  },
  {
   "cell_type": "code",
   "execution_count": null,
   "metadata": {
    "collapsed": true
   },
   "outputs": [],
   "source": []
  },
  {
   "cell_type": "code",
   "execution_count": null,
   "metadata": {
    "collapsed": true
   },
   "outputs": [],
   "source": []
  },
  {
   "cell_type": "code",
   "execution_count": 52,
   "metadata": {},
   "outputs": [
    {
     "data": {
      "text/plain": [
       "'Multa pequeña'"
      ]
     },
     "execution_count": 52,
     "metadata": {},
     "output_type": "execute_result"
    }
   ],
   "source": [
    "definirMulta(81,True)"
   ]
  },
  {
   "cell_type": "code",
   "execution_count": 53,
   "metadata": {},
   "outputs": [
    {
     "data": {
      "text/plain": [
       "'Multa grande'"
      ]
     },
     "execution_count": 53,
     "metadata": {},
     "output_type": "execute_result"
    }
   ],
   "source": [
    "definirMulta(81,False)"
   ]
  },
  {
   "cell_type": "markdown",
   "metadata": {},
   "source": [
    "### Cargando Pickle"
   ]
  },
  {
   "cell_type": "markdown",
   "metadata": {},
   "source": [
    "[**Pickle**](https://wiki.python.org/moin/UsingPickle) nos permite serializar casi todo tipo de objetos en Python. Sin embargo, existen elementos como clases, funciones y metodos que no pueden ser almacenados usando Pickle. Cuando se almacene una instancia de una clase, Pickle no almacenará la clase del objeto, sino una cadena de caracteres que identifique a qué clase pertenece el objeto. \n",
    "\n",
    "A continuación usaremos el conjunto de datos de usuarios del sitio de revisión de películas y almacenaremos los primeros cinco usuarios usando Pickle. Posteriormente los cargaremos usando también Pickle."
   ]
  },
  {
   "cell_type": "code",
   "execution_count": null,
   "metadata": {},
   "outputs": [],
   "source": [
    "import pickle\n",
    "\n",
    "with open('data/file_load/user-data.csv', 'r') as csvfile:\n",
    "    user_data = csv.reader(csvfile, delimiter='|')\n",
    "    data = list(user_data)"
   ]
  },
  {
   "cell_type": "code",
   "execution_count": null,
   "metadata": {},
   "outputs": [],
   "source": [
    "data[-5:]"
   ]
  },
  {
   "cell_type": "code",
   "execution_count": null,
   "metadata": {},
   "outputs": [],
   "source": [
    "pickle.dump(data[-5:], open(\"data/file_load/user_data.pkl\", \"wb\"))"
   ]
  },
  {
   "cell_type": "markdown",
   "metadata": {},
   "source": [
    "Ahora cargamos el archivo pickle de la siguiente manera:"
   ]
  },
  {
   "cell_type": "code",
   "execution_count": null,
   "metadata": {},
   "outputs": [],
   "source": [
    "user_data = pickle.load(open(\"data/file_load/user_data.pkl\", \"rb\" ))"
   ]
  },
  {
   "cell_type": "code",
   "execution_count": null,
   "metadata": {},
   "outputs": [],
   "source": [
    "user_data"
   ]
  }
 ],
 "metadata": {
  "kernelspec": {
   "display_name": "Python 3",
   "language": "python",
   "name": "python3"
  },
  "language_info": {
   "codemirror_mode": {
    "name": "ipython",
    "version": 3
   },
   "file_extension": ".py",
   "mimetype": "text/x-python",
   "name": "python",
   "nbconvert_exporter": "python",
   "pygments_lexer": "ipython3",
   "version": "3.7.4"
  }
 },
 "nbformat": 4,
 "nbformat_minor": 1
}
